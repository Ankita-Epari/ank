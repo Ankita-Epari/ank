{
 "cells": [
  {
   "cell_type": "markdown",
   "metadata": {},
   "source": [
    "## Assignment 1\n",
    "\n",
    "## Task 1\n",
    "\n",
    "#### Write a program which will find all such numbers which are divisible by 7 but are not a multiple\n",
    "#### of 5, between 2000 and 3200 (both included). The numbers obtained should be printed in a\n",
    "#### comma-separated sequence on a single line.\n"
   ]
  },
  {
   "cell_type": "code",
   "execution_count": 24,
   "metadata": {},
   "outputs": [
    {
     "name": "stdout",
     "output_type": "stream",
     "text": [
      "2002,2009,2016,2023,2037,2044,2051,2058,2072,2079,2086,2093,2107,2114,2121,2128,2142,2149,2156,2163,2177,2184,2191,2198,2212,2219,2226,2233,2247,2254,2261,2268,2282,2289,2296,2303,2317,2324,2331,2338,2352,2359,2366,2373,2387,2394,2401,2408,2422,2429,2436,2443,2457,2464,2471,2478,2492,2499,2506,2513,2527,2534,2541,2548,2562,2569,2576,2583,2597,2604,2611,2618,2632,2639,2646,2653,2667,2674,2681,2688,2702,2709,2716,2723,2737,2744,2751,2758,2772,2779,2786,2793,2807,2814,2821,2828,2842,2849,2856,2863,2877,2884,2891,2898,2912,2919,2926,2933,2947,2954,2961,2968,2982,2989,2996,3003,3017,3024,3031,3038,3052,3059,3066,3073,3087,3094,3101,3108,3122,3129,3136,3143,3157,3164,3171,3178,3192,3199,"
     ]
    }
   ],
   "source": [
    "l1=range(2000,3201)\n",
    "for i in l1:\n",
    "    if(i%7==0 and i%5!=0):\n",
    "        print(i,end=',')"
   ]
  },
  {
   "cell_type": "markdown",
   "metadata": {},
   "source": [
    "#### Write a Python program to accept the user's first and last name and then getting them printed in the the reverse order with a space between first name and last name."
   ]
  },
  {
   "cell_type": "code",
   "execution_count": 25,
   "metadata": {},
   "outputs": [
    {
     "name": "stdout",
     "output_type": "stream",
     "text": [
      "enter your first name ankita\n",
      "enter your second name epari\n",
      "epari ankita\n"
     ]
    }
   ],
   "source": [
    "a=input('enter your first name ')\n",
    "b=input('enter your second name ')\n",
    "#print('{} {}'.format(b,a))\n",
    "print(b + \" \" + a)"
   ]
  },
  {
   "cell_type": "markdown",
   "metadata": {},
   "source": [
    "#### Write a Python program to find the volume of a sphere with diameter 12 cm. Formula: V=4/3 * π * r3"
   ]
  },
  {
   "cell_type": "code",
   "execution_count": 26,
   "metadata": {},
   "outputs": [
    {
     "name": "stdout",
     "output_type": "stream",
     "text": [
      "the volume of the sphere is  904.3199999999999\n"
     ]
    }
   ],
   "source": [
    "pi=3.14\n",
    "d=12\n",
    "r=d/2\n",
    "vol=(4.0/3.0)*pi*(r**3)\n",
    "print('the volume of the sphere is ', vol)"
   ]
  },
  {
   "cell_type": "markdown",
   "metadata": {},
   "source": [
    "## Task 2"
   ]
  },
  {
   "cell_type": "markdown",
   "metadata": {},
   "source": [
    "#### Write a program which accepts a sequence of comma-separated numbers from console and generate a list"
   ]
  },
  {
   "cell_type": "code",
   "execution_count": null,
   "metadata": {},
   "outputs": [],
   "source": [
    "#n=input('input some comma-separated numbers')\n",
    "#list=n.split(sep=\",\")\n",
    "#print('the generated list is ',list)"
   ]
  },
  {
   "cell_type": "code",
   "execution_count": 27,
   "metadata": {},
   "outputs": [
    {
     "name": "stdout",
     "output_type": "stream",
     "text": [
      "input some comma-separated numbers1,2,3,4\n",
      "[1, 2, 3, 4]\n"
     ]
    }
   ],
   "source": [
    "n=input('input some comma-separated numbers')\n",
    "li=[]\n",
    "for i in n.split(sep=','):\n",
    "    li.append(int(i))\n",
    "print(li)"
   ]
  },
  {
   "cell_type": "markdown",
   "metadata": {},
   "source": [
    "\n",
    "#### Create the below pattern using nested for loop in Python.\n",
    "\n",
    "### *\n",
    "### * *\n",
    "### * * *\n",
    "### * * * *\n",
    "### * * * * *\n",
    "### * * * *\n",
    "### * * *\n",
    "### * *\n",
    "### *\n"
   ]
  },
  {
   "cell_type": "code",
   "execution_count": 19,
   "metadata": {},
   "outputs": [
    {
     "name": "stdout",
     "output_type": "stream",
     "text": [
      "\n",
      "* \n",
      "* * \n",
      "* * * \n",
      "* * * * \n",
      "* * * * * \n",
      "* * * * \n",
      "* * * \n",
      "* * \n",
      "* \n"
     ]
    }
   ],
   "source": [
    "\n",
    "for i in range(1,6):\n",
    "    print()\n",
    "    for j in range(1,6):\n",
    "        if(j<=i):\n",
    "            print('*',end=' ')\n",
    "for i in range(1,6):\n",
    "    print()\n",
    "    for j in range(5,1,-1):\n",
    "        if(j>i):\n",
    "            print('*',end=' ')\n",
    "\n",
    "    "
   ]
  },
  {
   "cell_type": "markdown",
   "metadata": {},
   "source": [
    "#### Write a Python program to reverse a word after accepting the input from the user"
   ]
  },
  {
   "cell_type": "code",
   "execution_count": 14,
   "metadata": {},
   "outputs": [
    {
     "name": "stdout",
     "output_type": "stream",
     "text": [
      "enter a word AcadGild\n",
      "dliGdacA\n"
     ]
    }
   ],
   "source": [
    "n=input('enter a word ')\n",
    "a=n[::-1]\n",
    "print(a)"
   ]
  },
  {
   "cell_type": "markdown",
   "metadata": {},
   "source": [
    "##### 4. Write a Python Program to print the given string in the format specified in the sample output.\n",
    "#### WE, THE PEOPLE OF INDIA, having solemnly resolved to constitute India into  SOVEREIGN, SOCIALIST, SECULAR, DEMOCRATIC REPUBLIC and to secure to all its citizens\n",
    "#### Sample Output:\n",
    "#### WE, THE PEOPLE OF INDIA,\n",
    "####             having solemnly resolved to constitute India into a SOVEREIGN, !\n",
    "####                      SOCIALIST, SECULAR, DEMOCRATIC REPUBLIC\n",
    "####                      and to secure to all its citizens\n"
   ]
  },
  {
   "cell_type": "code",
   "execution_count": 23,
   "metadata": {},
   "outputs": [
    {
     "name": "stdout",
     "output_type": "stream",
     "text": [
      "WE, THE PEOPLE OF INDIA\n",
      "   having solemnly resolved to constitute India into  SOVEREIGN,!\n",
      "         SOCIALIST, SECULAR, DEMOCRATIC REPUBLIC\n",
      "          and to secure to all its citizens\n"
     ]
    }
   ],
   "source": [
    "print(\"WE, THE PEOPLE OF INDIA\")\n",
    "print(\"   having solemnly resolved to constitute India into  SOVEREIGN,!\")\n",
    "print(\"         SOCIALIST, SECULAR, DEMOCRATIC REPUBLIC\") \n",
    "print(\"          and to secure to all its citizens\")\n"
   ]
  },
  {
   "cell_type": "code",
   "execution_count": null,
   "metadata": {},
   "outputs": [],
   "source": []
  }
 ],
 "metadata": {
  "kernelspec": {
   "display_name": "Python 3",
   "language": "python",
   "name": "python3"
  },
  "language_info": {
   "codemirror_mode": {
    "name": "ipython",
    "version": 3
   },
   "file_extension": ".py",
   "mimetype": "text/x-python",
   "name": "python",
   "nbconvert_exporter": "python",
   "pygments_lexer": "ipython3",
   "version": "3.7.4"
  }
 },
 "nbformat": 4,
 "nbformat_minor": 2
}
